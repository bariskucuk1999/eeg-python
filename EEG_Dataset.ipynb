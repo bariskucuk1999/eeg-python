{
 "cells": [
  {
   "cell_type": "code",
   "execution_count": 1,
   "metadata": {},
   "outputs": [],
   "source": [
    "import numpy as np\n",
    "import pandas as pd\n",
    "import os\n",
    "import gzip\n",
    "import matplotlib.pyplot as plt\n",
    "import pmdarima as pm\n",
    "from pmdarima.arima import auto_arima\n",
    "from statsmodels.graphics.tsaplots import plot_acf"
   ]
  },
  {
   "attachments": {},
   "cell_type": "markdown",
   "metadata": {},
   "source": [
    "**EEG Datasetindeki tar.gz Dosyalarının Listelenmesi**"
   ]
  },
  {
   "attachments": {},
   "cell_type": "markdown",
   "metadata": {},
   "source": [
    "Denek 1: Alkolikler"
   ]
  },
  {
   "cell_type": "code",
   "execution_count": 2,
   "metadata": {},
   "outputs": [
    {
     "name": "stdout",
     "output_type": "stream",
     "text": [
      "['co2a0000364', 'co2a0000365', 'co2a0000368', 'co2a0000369', 'co2a0000370', 'co2a0000371', 'co2a0000372', 'co2a0000375', 'co2a0000377', 'co2a0000378', 'co2a0000379', 'co2a0000380', 'co2a0000381', 'co2a0000382', 'co2a0000384', 'co2a0000385', 'co2a0000386', 'co2a0000387', 'co2a0000388', 'co2a0000390', 'co2a0000392', 'co2a0000394', 'co2a0000395', 'co2a0000396', 'co2a0000398', 'co2a0000400', 'co2a0000402', 'co2a0000403', 'co2a0000404', 'co2a0000405', 'co2a0000406', 'co2a0000407', 'co2a0000409', 'co2a0000410', 'co2a0000411', 'co2a0000412', 'co2a0000414', 'co2a0000415', 'co2a0000416', 'co2a0000417', 'co2a0000418', 'co2a0000419', 'co2a0000421', 'co2a0000422', 'co2a0000423', 'co2a0000424', 'co2a0000425', 'co2a0000426', 'co2a0000427', 'co2a0000428', 'co2a0000429', 'co2a0000430', 'co2a0000432', 'co2a0000433', 'co2a0000434', 'co2a0000435', 'co2a0000436', 'co2a0000437', 'co2a0000438', 'co2a0000439', 'co2a0000440', 'co2a0000443', 'co2a0000444', 'co2a0000445', 'co2a0000447', 'co3a0000448', 'co3a0000450', 'co3a0000451', 'co3a0000453', 'co3a0000454', 'co3a0000455', 'co3a0000456', 'co3a0000457', 'co3a0000458', 'co3a0000459', 'co3a0000460', 'co3a0000461']\n"
     ]
    }
   ],
   "source": [
    "file_names_a = os.listdir('C:/Users/bbari/Documents/eeg_dataset/extracted/a')\n",
    "print(file_names_a)\n",
    "EEG_data_a = pd.DataFrame()"
   ]
  },
  {
   "attachments": {},
   "cell_type": "markdown",
   "metadata": {},
   "source": [
    "Denek 2: Kontroller"
   ]
  },
  {
   "cell_type": "code",
   "execution_count": 3,
   "metadata": {},
   "outputs": [
    {
     "name": "stdout",
     "output_type": "stream",
     "text": [
      "['co2c0000337', 'co2c0000338', 'co2c0000339', 'co2c0000340', 'co2c0000341', 'co2c0000342', 'co2c0000344', 'co2c0000345', 'co2c0000346', 'co2c0000347', 'co2c0000348', 'co2c0000351', 'co2c0000352', 'co2c0000354', 'co2c0000355', 'co2c0000356', 'co2c0000357', 'co2c0000359', 'co2c0000362', 'co2c0000363', 'co2c0000364', 'co2c0000367', 'co2c0000370', 'co2c0000371', 'co2c0000373', 'co2c0000374', 'co2c0000378', 'co2c0000379', 'co2c0000381', 'co2c0000382', 'co2c0000383', 'co2c0000384', 'co2c0000387', 'co2c0000388', 'co2c0000389', 'co2c0000390', 'co2c0000391', 'co2c0000392', 'co2c0000393', 'co2c0000394', 'co2c0000395', 'co2c0000396', 'co2c0000397', 'co2c1000367', 'co3c0000402']\n"
     ]
    }
   ],
   "source": [
    "file_names_c = os.listdir('C:/Users/bbari/Documents/eeg_dataset/extracted/c')\n",
    "print(file_names_c)\n",
    "EEG_data_c = pd.DataFrame()"
   ]
  },
  {
   "cell_type": "code",
   "execution_count": 4,
   "metadata": {},
   "outputs": [
    {
     "name": "stdout",
     "output_type": "stream",
     "text": [
      "Datasette toplam 77 alkolik ve 45 kontrol denek bulunmaktadır\n"
     ]
    }
   ],
   "source": [
    "print('Datasette toplam ' + (str(len(file_names_a)) + ' alkolik ve ' + str(len(file_names_c)) + ' kontrol denek bulunmaktadır'))"
   ]
  },
  {
   "attachments": {},
   "cell_type": "markdown",
   "metadata": {},
   "source": [
    "**Listelenen Datasetteki gz Uzantılı Datanın Extract İşlemi**"
   ]
  },
  {
   "cell_type": "code",
   "execution_count": 5,
   "metadata": {},
   "outputs": [],
   "source": [
    "for file in file_names_a:\n",
    "    file_names_a1 = os.listdir('C:/Users/bbari/Documents/eeg_dataset/extracted/a/' + file)\n",
    "for f in file_names_a1:\n",
    "    data_a=\"C:/Users/bbari/Documents/eeg_dataset/extracted/a/\" + file + '/' + f\n",
    "    with gzip.open(str(data_a)) as f:\n",
    "        temp_df_a = pd.read_table(f.name)\n",
    "        EEG_data_a = pd.concat([EEG_data_a, temp_df_a])\n",
    "        #EEG_data_a = EEG_data_a.append(temp_df_a)"
   ]
  },
  {
   "cell_type": "code",
   "execution_count": 6,
   "metadata": {},
   "outputs": [],
   "source": [
    "for file_c in file_names_c:\n",
    "    file_names_c1 = os.listdir('C:/Users/bbari/Documents/eeg_dataset/extracted/c/' + file_c)\n",
    "for g in file_names_c1:\n",
    "    data_c=\"C:/Users/bbari/Documents/eeg_dataset/extracted/c/\" + file_c + '/' + g\n",
    "    with gzip.open(str(data_c)) as g:\n",
    "        temp_df_c = pd.read_table(g.name)\n",
    "        EEG_data_c = pd.concat([EEG_data_c, temp_df_c])"
   ]
  },
  {
   "attachments": {},
   "cell_type": "markdown",
   "metadata": {},
   "source": [
    "Extract ettiğimiz dataların satır-sütun sayısına bakalım"
   ]
  },
  {
   "cell_type": "code",
   "execution_count": 7,
   "metadata": {},
   "outputs": [
    {
     "name": "stdout",
     "output_type": "stream",
     "text": [
      "(1168021, 1)\n",
      "(1826061, 1)\n"
     ]
    }
   ],
   "source": [
    "print(EEG_data_a.shape)\n",
    "print(EEG_data_c.shape)"
   ]
  },
  {
   "attachments": {},
   "cell_type": "markdown",
   "metadata": {},
   "source": [
    "**Dataseti Birden Fazla Sütuna Ayırma**"
   ]
  },
  {
   "cell_type": "code",
   "execution_count": 8,
   "metadata": {},
   "outputs": [
    {
     "data": {
      "text/html": [
       "<div>\n",
       "<style scoped>\n",
       "    .dataframe tbody tr th:only-of-type {\n",
       "        vertical-align: middle;\n",
       "    }\n",
       "\n",
       "    .dataframe tbody tr th {\n",
       "        vertical-align: top;\n",
       "    }\n",
       "\n",
       "    .dataframe thead th {\n",
       "        text-align: right;\n",
       "    }\n",
       "</style>\n",
       "<table border=\"1\" class=\"dataframe\">\n",
       "  <thead>\n",
       "    <tr style=\"text-align: right;\">\n",
       "      <th></th>\n",
       "      <th>0</th>\n",
       "      <th>1</th>\n",
       "      <th>2</th>\n",
       "      <th>3</th>\n",
       "      <th>4</th>\n",
       "      <th>5</th>\n",
       "      <th>6</th>\n",
       "      <th>7</th>\n",
       "      <th>8</th>\n",
       "      <th>9</th>\n",
       "    </tr>\n",
       "  </thead>\n",
       "  <tbody>\n",
       "    <tr>\n",
       "      <th>0</th>\n",
       "      <td>#</td>\n",
       "      <td>120</td>\n",
       "      <td>trials,</td>\n",
       "      <td>64</td>\n",
       "      <td>chans,</td>\n",
       "      <td>416</td>\n",
       "      <td>samples</td>\n",
       "      <td>368</td>\n",
       "      <td>post_stim</td>\n",
       "      <td>samples</td>\n",
       "    </tr>\n",
       "    <tr>\n",
       "      <th>1</th>\n",
       "      <td>#</td>\n",
       "      <td>3.906000</td>\n",
       "      <td>msecs</td>\n",
       "      <td>uV</td>\n",
       "      <td>None</td>\n",
       "      <td>None</td>\n",
       "      <td>None</td>\n",
       "      <td>None</td>\n",
       "      <td>None</td>\n",
       "      <td>None</td>\n",
       "    </tr>\n",
       "    <tr>\n",
       "      <th>2</th>\n",
       "      <td>#</td>\n",
       "      <td>S1</td>\n",
       "      <td>obj</td>\n",
       "      <td>,</td>\n",
       "      <td>trial</td>\n",
       "      <td>0</td>\n",
       "      <td>None</td>\n",
       "      <td>None</td>\n",
       "      <td>None</td>\n",
       "      <td>None</td>\n",
       "    </tr>\n",
       "    <tr>\n",
       "      <th>3</th>\n",
       "      <td>#</td>\n",
       "      <td>FP1</td>\n",
       "      <td>chan</td>\n",
       "      <td>0</td>\n",
       "      <td>None</td>\n",
       "      <td>None</td>\n",
       "      <td>None</td>\n",
       "      <td>None</td>\n",
       "      <td>None</td>\n",
       "      <td>None</td>\n",
       "    </tr>\n",
       "    <tr>\n",
       "      <th>4</th>\n",
       "      <td>0</td>\n",
       "      <td>FP1</td>\n",
       "      <td>0</td>\n",
       "      <td>3.174</td>\n",
       "      <td>None</td>\n",
       "      <td>None</td>\n",
       "      <td>None</td>\n",
       "      <td>None</td>\n",
       "      <td>None</td>\n",
       "      <td>None</td>\n",
       "    </tr>\n",
       "    <tr>\n",
       "      <th>...</th>\n",
       "      <td>...</td>\n",
       "      <td>...</td>\n",
       "      <td>...</td>\n",
       "      <td>...</td>\n",
       "      <td>...</td>\n",
       "      <td>...</td>\n",
       "      <td>...</td>\n",
       "      <td>...</td>\n",
       "      <td>...</td>\n",
       "      <td>...</td>\n",
       "    </tr>\n",
       "    <tr>\n",
       "      <th>16446</th>\n",
       "      <td>119</td>\n",
       "      <td>Y</td>\n",
       "      <td>251</td>\n",
       "      <td>38.656</td>\n",
       "      <td>None</td>\n",
       "      <td>None</td>\n",
       "      <td>None</td>\n",
       "      <td>None</td>\n",
       "      <td>None</td>\n",
       "      <td>None</td>\n",
       "    </tr>\n",
       "    <tr>\n",
       "      <th>16447</th>\n",
       "      <td>119</td>\n",
       "      <td>Y</td>\n",
       "      <td>252</td>\n",
       "      <td>37.679</td>\n",
       "      <td>None</td>\n",
       "      <td>None</td>\n",
       "      <td>None</td>\n",
       "      <td>None</td>\n",
       "      <td>None</td>\n",
       "      <td>None</td>\n",
       "    </tr>\n",
       "    <tr>\n",
       "      <th>16448</th>\n",
       "      <td>119</td>\n",
       "      <td>Y</td>\n",
       "      <td>253</td>\n",
       "      <td>37.191</td>\n",
       "      <td>None</td>\n",
       "      <td>None</td>\n",
       "      <td>None</td>\n",
       "      <td>None</td>\n",
       "      <td>None</td>\n",
       "      <td>None</td>\n",
       "    </tr>\n",
       "    <tr>\n",
       "      <th>16449</th>\n",
       "      <td>119</td>\n",
       "      <td>Y</td>\n",
       "      <td>254</td>\n",
       "      <td>37.679</td>\n",
       "      <td>None</td>\n",
       "      <td>None</td>\n",
       "      <td>None</td>\n",
       "      <td>None</td>\n",
       "      <td>None</td>\n",
       "      <td>None</td>\n",
       "    </tr>\n",
       "    <tr>\n",
       "      <th>16450</th>\n",
       "      <td>119</td>\n",
       "      <td>Y</td>\n",
       "      <td>255</td>\n",
       "      <td>37.679</td>\n",
       "      <td>None</td>\n",
       "      <td>None</td>\n",
       "      <td>None</td>\n",
       "      <td>None</td>\n",
       "      <td>None</td>\n",
       "      <td>None</td>\n",
       "    </tr>\n",
       "  </tbody>\n",
       "</table>\n",
       "<p>1168021 rows × 10 columns</p>\n",
       "</div>"
      ],
      "text/plain": [
       "         0         1        2       3       4     5        6     7          8  \\\n",
       "0        #       120  trials,      64  chans,   416  samples   368  post_stim   \n",
       "1        #  3.906000    msecs      uV    None  None     None  None       None   \n",
       "2        #        S1      obj       ,   trial     0     None  None       None   \n",
       "3        #       FP1     chan       0    None  None     None  None       None   \n",
       "4        0       FP1        0   3.174    None  None     None  None       None   \n",
       "...    ...       ...      ...     ...     ...   ...      ...   ...        ...   \n",
       "16446  119         Y      251  38.656    None  None     None  None       None   \n",
       "16447  119         Y      252  37.679    None  None     None  None       None   \n",
       "16448  119         Y      253  37.191    None  None     None  None       None   \n",
       "16449  119         Y      254  37.679    None  None     None  None       None   \n",
       "16450  119         Y      255  37.679    None  None     None  None       None   \n",
       "\n",
       "             9  \n",
       "0      samples  \n",
       "1         None  \n",
       "2         None  \n",
       "3         None  \n",
       "4         None  \n",
       "...        ...  \n",
       "16446     None  \n",
       "16447     None  \n",
       "16448     None  \n",
       "16449     None  \n",
       "16450     None  \n",
       "\n",
       "[1168021 rows x 10 columns]"
      ]
     },
     "execution_count": 8,
     "metadata": {},
     "output_type": "execute_result"
    }
   ],
   "source": [
    "my_data_a=EEG_data_a['# co3a0000461.rd'].str.split(' ', expand=True) \n",
    "my_data_a"
   ]
  },
  {
   "cell_type": "code",
   "execution_count": 9,
   "metadata": {},
   "outputs": [
    {
     "data": {
      "text/html": [
       "<div>\n",
       "<style scoped>\n",
       "    .dataframe tbody tr th:only-of-type {\n",
       "        vertical-align: middle;\n",
       "    }\n",
       "\n",
       "    .dataframe tbody tr th {\n",
       "        vertical-align: top;\n",
       "    }\n",
       "\n",
       "    .dataframe thead th {\n",
       "        text-align: right;\n",
       "    }\n",
       "</style>\n",
       "<table border=\"1\" class=\"dataframe\">\n",
       "  <thead>\n",
       "    <tr style=\"text-align: right;\">\n",
       "      <th></th>\n",
       "      <th>0</th>\n",
       "      <th>1</th>\n",
       "      <th>2</th>\n",
       "      <th>3</th>\n",
       "      <th>4</th>\n",
       "      <th>5</th>\n",
       "      <th>6</th>\n",
       "      <th>7</th>\n",
       "      <th>8</th>\n",
       "      <th>9</th>\n",
       "    </tr>\n",
       "  </thead>\n",
       "  <tbody>\n",
       "    <tr>\n",
       "      <th>0</th>\n",
       "      <td>#</td>\n",
       "      <td>120</td>\n",
       "      <td>trials,</td>\n",
       "      <td>64</td>\n",
       "      <td>chans,</td>\n",
       "      <td>416</td>\n",
       "      <td>samples</td>\n",
       "      <td>368</td>\n",
       "      <td>post_stim</td>\n",
       "      <td>samples</td>\n",
       "    </tr>\n",
       "    <tr>\n",
       "      <th>1</th>\n",
       "      <td>#</td>\n",
       "      <td>3.906000</td>\n",
       "      <td>msecs</td>\n",
       "      <td>uV</td>\n",
       "      <td>None</td>\n",
       "      <td>None</td>\n",
       "      <td>None</td>\n",
       "      <td>None</td>\n",
       "      <td>None</td>\n",
       "      <td>None</td>\n",
       "    </tr>\n",
       "    <tr>\n",
       "      <th>2</th>\n",
       "      <td>#</td>\n",
       "      <td>S1</td>\n",
       "      <td>obj</td>\n",
       "      <td>,</td>\n",
       "      <td>trial</td>\n",
       "      <td>0</td>\n",
       "      <td>None</td>\n",
       "      <td>None</td>\n",
       "      <td>None</td>\n",
       "      <td>None</td>\n",
       "    </tr>\n",
       "    <tr>\n",
       "      <th>3</th>\n",
       "      <td>#</td>\n",
       "      <td>FP1</td>\n",
       "      <td>chan</td>\n",
       "      <td>0</td>\n",
       "      <td>None</td>\n",
       "      <td>None</td>\n",
       "      <td>None</td>\n",
       "      <td>None</td>\n",
       "      <td>None</td>\n",
       "      <td>None</td>\n",
       "    </tr>\n",
       "    <tr>\n",
       "      <th>4</th>\n",
       "      <td>0</td>\n",
       "      <td>FP1</td>\n",
       "      <td>0</td>\n",
       "      <td>-1.109</td>\n",
       "      <td>None</td>\n",
       "      <td>None</td>\n",
       "      <td>None</td>\n",
       "      <td>None</td>\n",
       "      <td>None</td>\n",
       "      <td>None</td>\n",
       "    </tr>\n",
       "    <tr>\n",
       "      <th>...</th>\n",
       "      <td>...</td>\n",
       "      <td>...</td>\n",
       "      <td>...</td>\n",
       "      <td>...</td>\n",
       "      <td>...</td>\n",
       "      <td>...</td>\n",
       "      <td>...</td>\n",
       "      <td>...</td>\n",
       "      <td>...</td>\n",
       "      <td>...</td>\n",
       "    </tr>\n",
       "    <tr>\n",
       "      <th>16446</th>\n",
       "      <td>119</td>\n",
       "      <td>Y</td>\n",
       "      <td>251</td>\n",
       "      <td>-37.292</td>\n",
       "      <td>None</td>\n",
       "      <td>None</td>\n",
       "      <td>None</td>\n",
       "      <td>None</td>\n",
       "      <td>None</td>\n",
       "      <td>None</td>\n",
       "    </tr>\n",
       "    <tr>\n",
       "      <th>16447</th>\n",
       "      <td>119</td>\n",
       "      <td>Y</td>\n",
       "      <td>252</td>\n",
       "      <td>-36.316</td>\n",
       "      <td>None</td>\n",
       "      <td>None</td>\n",
       "      <td>None</td>\n",
       "      <td>None</td>\n",
       "      <td>None</td>\n",
       "      <td>None</td>\n",
       "    </tr>\n",
       "    <tr>\n",
       "      <th>16448</th>\n",
       "      <td>119</td>\n",
       "      <td>Y</td>\n",
       "      <td>253</td>\n",
       "      <td>-34.363</td>\n",
       "      <td>None</td>\n",
       "      <td>None</td>\n",
       "      <td>None</td>\n",
       "      <td>None</td>\n",
       "      <td>None</td>\n",
       "      <td>None</td>\n",
       "    </tr>\n",
       "    <tr>\n",
       "      <th>16449</th>\n",
       "      <td>119</td>\n",
       "      <td>Y</td>\n",
       "      <td>254</td>\n",
       "      <td>-33.386</td>\n",
       "      <td>None</td>\n",
       "      <td>None</td>\n",
       "      <td>None</td>\n",
       "      <td>None</td>\n",
       "      <td>None</td>\n",
       "      <td>None</td>\n",
       "    </tr>\n",
       "    <tr>\n",
       "      <th>16450</th>\n",
       "      <td>119</td>\n",
       "      <td>Y</td>\n",
       "      <td>255</td>\n",
       "      <td>-32.898</td>\n",
       "      <td>None</td>\n",
       "      <td>None</td>\n",
       "      <td>None</td>\n",
       "      <td>None</td>\n",
       "      <td>None</td>\n",
       "      <td>None</td>\n",
       "    </tr>\n",
       "  </tbody>\n",
       "</table>\n",
       "<p>1826061 rows × 10 columns</p>\n",
       "</div>"
      ],
      "text/plain": [
       "         0         1        2        3       4     5        6     7  \\\n",
       "0        #       120  trials,       64  chans,   416  samples   368   \n",
       "1        #  3.906000    msecs       uV    None  None     None  None   \n",
       "2        #        S1      obj        ,   trial     0     None  None   \n",
       "3        #       FP1     chan        0    None  None     None  None   \n",
       "4        0       FP1        0   -1.109    None  None     None  None   \n",
       "...    ...       ...      ...      ...     ...   ...      ...   ...   \n",
       "16446  119         Y      251  -37.292    None  None     None  None   \n",
       "16447  119         Y      252  -36.316    None  None     None  None   \n",
       "16448  119         Y      253  -34.363    None  None     None  None   \n",
       "16449  119         Y      254  -33.386    None  None     None  None   \n",
       "16450  119         Y      255  -32.898    None  None     None  None   \n",
       "\n",
       "               8        9  \n",
       "0      post_stim  samples  \n",
       "1           None     None  \n",
       "2           None     None  \n",
       "3           None     None  \n",
       "4           None     None  \n",
       "...          ...      ...  \n",
       "16446       None     None  \n",
       "16447       None     None  \n",
       "16448       None     None  \n",
       "16449       None     None  \n",
       "16450       None     None  \n",
       "\n",
       "[1826061 rows x 10 columns]"
      ]
     },
     "execution_count": 9,
     "metadata": {},
     "output_type": "execute_result"
    }
   ],
   "source": [
    "my_data_c=EEG_data_c['# co3c0000402.rd'].str.split(' ', expand=True) \n",
    "my_data_c"
   ]
  },
  {
   "attachments": {},
   "cell_type": "markdown",
   "metadata": {},
   "source": [
    "**Datasette Yalnızca İlgili Etiketlerin Filtrelenmesi**"
   ]
  },
  {
   "cell_type": "code",
   "execution_count": 10,
   "metadata": {},
   "outputs": [
    {
     "data": {
      "text/html": [
       "<div>\n",
       "<style scoped>\n",
       "    .dataframe tbody tr th:only-of-type {\n",
       "        vertical-align: middle;\n",
       "    }\n",
       "\n",
       "    .dataframe tbody tr th {\n",
       "        vertical-align: top;\n",
       "    }\n",
       "\n",
       "    .dataframe thead th {\n",
       "        text-align: right;\n",
       "    }\n",
       "</style>\n",
       "<table border=\"1\" class=\"dataframe\">\n",
       "  <thead>\n",
       "    <tr style=\"text-align: right;\">\n",
       "      <th></th>\n",
       "      <th>0</th>\n",
       "      <th>1</th>\n",
       "      <th>2</th>\n",
       "      <th>3</th>\n",
       "      <th>4</th>\n",
       "      <th>5</th>\n",
       "      <th>6</th>\n",
       "      <th>7</th>\n",
       "      <th>8</th>\n",
       "      <th>9</th>\n",
       "    </tr>\n",
       "  </thead>\n",
       "  <tbody>\n",
       "    <tr>\n",
       "      <th>4</th>\n",
       "      <td>0</td>\n",
       "      <td>FP1</td>\n",
       "      <td>0</td>\n",
       "      <td>3.174</td>\n",
       "      <td>None</td>\n",
       "      <td>None</td>\n",
       "      <td>None</td>\n",
       "      <td>None</td>\n",
       "      <td>None</td>\n",
       "      <td>None</td>\n",
       "    </tr>\n",
       "    <tr>\n",
       "      <th>5</th>\n",
       "      <td>0</td>\n",
       "      <td>FP1</td>\n",
       "      <td>1</td>\n",
       "      <td>1.709</td>\n",
       "      <td>None</td>\n",
       "      <td>None</td>\n",
       "      <td>None</td>\n",
       "      <td>None</td>\n",
       "      <td>None</td>\n",
       "      <td>None</td>\n",
       "    </tr>\n",
       "    <tr>\n",
       "      <th>6</th>\n",
       "      <td>0</td>\n",
       "      <td>FP1</td>\n",
       "      <td>2</td>\n",
       "      <td>-0.244</td>\n",
       "      <td>None</td>\n",
       "      <td>None</td>\n",
       "      <td>None</td>\n",
       "      <td>None</td>\n",
       "      <td>None</td>\n",
       "      <td>None</td>\n",
       "    </tr>\n",
       "    <tr>\n",
       "      <th>7</th>\n",
       "      <td>0</td>\n",
       "      <td>FP1</td>\n",
       "      <td>3</td>\n",
       "      <td>-2.197</td>\n",
       "      <td>None</td>\n",
       "      <td>None</td>\n",
       "      <td>None</td>\n",
       "      <td>None</td>\n",
       "      <td>None</td>\n",
       "      <td>None</td>\n",
       "    </tr>\n",
       "    <tr>\n",
       "      <th>8</th>\n",
       "      <td>0</td>\n",
       "      <td>FP1</td>\n",
       "      <td>4</td>\n",
       "      <td>-2.686</td>\n",
       "      <td>None</td>\n",
       "      <td>None</td>\n",
       "      <td>None</td>\n",
       "      <td>None</td>\n",
       "      <td>None</td>\n",
       "      <td>None</td>\n",
       "    </tr>\n",
       "    <tr>\n",
       "      <th>...</th>\n",
       "      <td>...</td>\n",
       "      <td>...</td>\n",
       "      <td>...</td>\n",
       "      <td>...</td>\n",
       "      <td>...</td>\n",
       "      <td>...</td>\n",
       "      <td>...</td>\n",
       "      <td>...</td>\n",
       "      <td>...</td>\n",
       "      <td>...</td>\n",
       "    </tr>\n",
       "    <tr>\n",
       "      <th>16446</th>\n",
       "      <td>119</td>\n",
       "      <td>Y</td>\n",
       "      <td>251</td>\n",
       "      <td>38.656</td>\n",
       "      <td>None</td>\n",
       "      <td>None</td>\n",
       "      <td>None</td>\n",
       "      <td>None</td>\n",
       "      <td>None</td>\n",
       "      <td>None</td>\n",
       "    </tr>\n",
       "    <tr>\n",
       "      <th>16447</th>\n",
       "      <td>119</td>\n",
       "      <td>Y</td>\n",
       "      <td>252</td>\n",
       "      <td>37.679</td>\n",
       "      <td>None</td>\n",
       "      <td>None</td>\n",
       "      <td>None</td>\n",
       "      <td>None</td>\n",
       "      <td>None</td>\n",
       "      <td>None</td>\n",
       "    </tr>\n",
       "    <tr>\n",
       "      <th>16448</th>\n",
       "      <td>119</td>\n",
       "      <td>Y</td>\n",
       "      <td>253</td>\n",
       "      <td>37.191</td>\n",
       "      <td>None</td>\n",
       "      <td>None</td>\n",
       "      <td>None</td>\n",
       "      <td>None</td>\n",
       "      <td>None</td>\n",
       "      <td>None</td>\n",
       "    </tr>\n",
       "    <tr>\n",
       "      <th>16449</th>\n",
       "      <td>119</td>\n",
       "      <td>Y</td>\n",
       "      <td>254</td>\n",
       "      <td>37.679</td>\n",
       "      <td>None</td>\n",
       "      <td>None</td>\n",
       "      <td>None</td>\n",
       "      <td>None</td>\n",
       "      <td>None</td>\n",
       "      <td>None</td>\n",
       "    </tr>\n",
       "    <tr>\n",
       "      <th>16450</th>\n",
       "      <td>119</td>\n",
       "      <td>Y</td>\n",
       "      <td>255</td>\n",
       "      <td>37.679</td>\n",
       "      <td>None</td>\n",
       "      <td>None</td>\n",
       "      <td>None</td>\n",
       "      <td>None</td>\n",
       "      <td>None</td>\n",
       "      <td>None</td>\n",
       "    </tr>\n",
       "  </tbody>\n",
       "</table>\n",
       "<p>1163264 rows × 10 columns</p>\n",
       "</div>"
      ],
      "text/plain": [
       "         0    1    2       3     4     5     6     7     8     9\n",
       "4        0  FP1    0   3.174  None  None  None  None  None  None\n",
       "5        0  FP1    1   1.709  None  None  None  None  None  None\n",
       "6        0  FP1    2  -0.244  None  None  None  None  None  None\n",
       "7        0  FP1    3  -2.197  None  None  None  None  None  None\n",
       "8        0  FP1    4  -2.686  None  None  None  None  None  None\n",
       "...    ...  ...  ...     ...   ...   ...   ...   ...   ...   ...\n",
       "16446  119    Y  251  38.656  None  None  None  None  None  None\n",
       "16447  119    Y  252  37.679  None  None  None  None  None  None\n",
       "16448  119    Y  253  37.191  None  None  None  None  None  None\n",
       "16449  119    Y  254  37.679  None  None  None  None  None  None\n",
       "16450  119    Y  255  37.679  None  None  None  None  None  None\n",
       "\n",
       "[1163264 rows x 10 columns]"
      ]
     },
     "execution_count": 10,
     "metadata": {},
     "output_type": "execute_result"
    }
   ],
   "source": [
    "my_data_a = my_data_a[my_data_a[9] != 'samples']\n",
    "my_data_a = my_data_a[my_data_a[1] != 'S1']\n",
    "my_data_a = my_data_a[my_data_a[1] != 'S2']\n",
    "my_data_a = my_data_a[my_data_a[2] != 'chan']\n",
    "my_data_a = my_data_a[my_data_a[3] != 'uV']\n",
    "my_data_a"
   ]
  },
  {
   "cell_type": "code",
   "execution_count": 11,
   "metadata": {},
   "outputs": [
    {
     "data": {
      "text/html": [
       "<div>\n",
       "<style scoped>\n",
       "    .dataframe tbody tr th:only-of-type {\n",
       "        vertical-align: middle;\n",
       "    }\n",
       "\n",
       "    .dataframe tbody tr th {\n",
       "        vertical-align: top;\n",
       "    }\n",
       "\n",
       "    .dataframe thead th {\n",
       "        text-align: right;\n",
       "    }\n",
       "</style>\n",
       "<table border=\"1\" class=\"dataframe\">\n",
       "  <thead>\n",
       "    <tr style=\"text-align: right;\">\n",
       "      <th></th>\n",
       "      <th>0</th>\n",
       "      <th>1</th>\n",
       "      <th>2</th>\n",
       "      <th>3</th>\n",
       "      <th>4</th>\n",
       "      <th>5</th>\n",
       "      <th>6</th>\n",
       "      <th>7</th>\n",
       "      <th>8</th>\n",
       "      <th>9</th>\n",
       "    </tr>\n",
       "  </thead>\n",
       "  <tbody>\n",
       "    <tr>\n",
       "      <th>4</th>\n",
       "      <td>0</td>\n",
       "      <td>FP1</td>\n",
       "      <td>0</td>\n",
       "      <td>-1.109</td>\n",
       "      <td>None</td>\n",
       "      <td>None</td>\n",
       "      <td>None</td>\n",
       "      <td>None</td>\n",
       "      <td>None</td>\n",
       "      <td>None</td>\n",
       "    </tr>\n",
       "    <tr>\n",
       "      <th>5</th>\n",
       "      <td>0</td>\n",
       "      <td>FP1</td>\n",
       "      <td>1</td>\n",
       "      <td>-2.085</td>\n",
       "      <td>None</td>\n",
       "      <td>None</td>\n",
       "      <td>None</td>\n",
       "      <td>None</td>\n",
       "      <td>None</td>\n",
       "      <td>None</td>\n",
       "    </tr>\n",
       "    <tr>\n",
       "      <th>6</th>\n",
       "      <td>0</td>\n",
       "      <td>FP1</td>\n",
       "      <td>2</td>\n",
       "      <td>-2.085</td>\n",
       "      <td>None</td>\n",
       "      <td>None</td>\n",
       "      <td>None</td>\n",
       "      <td>None</td>\n",
       "      <td>None</td>\n",
       "      <td>None</td>\n",
       "    </tr>\n",
       "    <tr>\n",
       "      <th>7</th>\n",
       "      <td>0</td>\n",
       "      <td>FP1</td>\n",
       "      <td>3</td>\n",
       "      <td>-1.597</td>\n",
       "      <td>None</td>\n",
       "      <td>None</td>\n",
       "      <td>None</td>\n",
       "      <td>None</td>\n",
       "      <td>None</td>\n",
       "      <td>None</td>\n",
       "    </tr>\n",
       "    <tr>\n",
       "      <th>8</th>\n",
       "      <td>0</td>\n",
       "      <td>FP1</td>\n",
       "      <td>4</td>\n",
       "      <td>-2.085</td>\n",
       "      <td>None</td>\n",
       "      <td>None</td>\n",
       "      <td>None</td>\n",
       "      <td>None</td>\n",
       "      <td>None</td>\n",
       "      <td>None</td>\n",
       "    </tr>\n",
       "    <tr>\n",
       "      <th>...</th>\n",
       "      <td>...</td>\n",
       "      <td>...</td>\n",
       "      <td>...</td>\n",
       "      <td>...</td>\n",
       "      <td>...</td>\n",
       "      <td>...</td>\n",
       "      <td>...</td>\n",
       "      <td>...</td>\n",
       "      <td>...</td>\n",
       "      <td>...</td>\n",
       "    </tr>\n",
       "    <tr>\n",
       "      <th>16446</th>\n",
       "      <td>119</td>\n",
       "      <td>Y</td>\n",
       "      <td>251</td>\n",
       "      <td>-37.292</td>\n",
       "      <td>None</td>\n",
       "      <td>None</td>\n",
       "      <td>None</td>\n",
       "      <td>None</td>\n",
       "      <td>None</td>\n",
       "      <td>None</td>\n",
       "    </tr>\n",
       "    <tr>\n",
       "      <th>16447</th>\n",
       "      <td>119</td>\n",
       "      <td>Y</td>\n",
       "      <td>252</td>\n",
       "      <td>-36.316</td>\n",
       "      <td>None</td>\n",
       "      <td>None</td>\n",
       "      <td>None</td>\n",
       "      <td>None</td>\n",
       "      <td>None</td>\n",
       "      <td>None</td>\n",
       "    </tr>\n",
       "    <tr>\n",
       "      <th>16448</th>\n",
       "      <td>119</td>\n",
       "      <td>Y</td>\n",
       "      <td>253</td>\n",
       "      <td>-34.363</td>\n",
       "      <td>None</td>\n",
       "      <td>None</td>\n",
       "      <td>None</td>\n",
       "      <td>None</td>\n",
       "      <td>None</td>\n",
       "      <td>None</td>\n",
       "    </tr>\n",
       "    <tr>\n",
       "      <th>16449</th>\n",
       "      <td>119</td>\n",
       "      <td>Y</td>\n",
       "      <td>254</td>\n",
       "      <td>-33.386</td>\n",
       "      <td>None</td>\n",
       "      <td>None</td>\n",
       "      <td>None</td>\n",
       "      <td>None</td>\n",
       "      <td>None</td>\n",
       "      <td>None</td>\n",
       "    </tr>\n",
       "    <tr>\n",
       "      <th>16450</th>\n",
       "      <td>119</td>\n",
       "      <td>Y</td>\n",
       "      <td>255</td>\n",
       "      <td>-32.898</td>\n",
       "      <td>None</td>\n",
       "      <td>None</td>\n",
       "      <td>None</td>\n",
       "      <td>None</td>\n",
       "      <td>None</td>\n",
       "      <td>None</td>\n",
       "    </tr>\n",
       "  </tbody>\n",
       "</table>\n",
       "<p>1818624 rows × 10 columns</p>\n",
       "</div>"
      ],
      "text/plain": [
       "         0    1    2        3     4     5     6     7     8     9\n",
       "4        0  FP1    0   -1.109  None  None  None  None  None  None\n",
       "5        0  FP1    1   -2.085  None  None  None  None  None  None\n",
       "6        0  FP1    2   -2.085  None  None  None  None  None  None\n",
       "7        0  FP1    3   -1.597  None  None  None  None  None  None\n",
       "8        0  FP1    4   -2.085  None  None  None  None  None  None\n",
       "...    ...  ...  ...      ...   ...   ...   ...   ...   ...   ...\n",
       "16446  119    Y  251  -37.292  None  None  None  None  None  None\n",
       "16447  119    Y  252  -36.316  None  None  None  None  None  None\n",
       "16448  119    Y  253  -34.363  None  None  None  None  None  None\n",
       "16449  119    Y  254  -33.386  None  None  None  None  None  None\n",
       "16450  119    Y  255  -32.898  None  None  None  None  None  None\n",
       "\n",
       "[1818624 rows x 10 columns]"
      ]
     },
     "execution_count": 11,
     "metadata": {},
     "output_type": "execute_result"
    }
   ],
   "source": [
    "my_data_c = my_data_c[my_data_c[9] != 'samples']\n",
    "my_data_c = my_data_c[my_data_c[1] != 'S1']\n",
    "my_data_c = my_data_c[my_data_c[1] != 'S2']\n",
    "my_data_c = my_data_c[my_data_c[2] != 'chan']\n",
    "my_data_c = my_data_c[my_data_c[3] != 'uV']\n",
    "my_data_c"
   ]
  },
  {
   "attachments": {},
   "cell_type": "markdown",
   "metadata": {},
   "source": [
    "Gereksiz row ve column'lar kaldırıldıktan sonrası;"
   ]
  },
  {
   "cell_type": "code",
   "execution_count": 12,
   "metadata": {},
   "outputs": [
    {
     "data": {
      "text/html": [
       "<div>\n",
       "<style scoped>\n",
       "    .dataframe tbody tr th:only-of-type {\n",
       "        vertical-align: middle;\n",
       "    }\n",
       "\n",
       "    .dataframe tbody tr th {\n",
       "        vertical-align: top;\n",
       "    }\n",
       "\n",
       "    .dataframe thead th {\n",
       "        text-align: right;\n",
       "    }\n",
       "</style>\n",
       "<table border=\"1\" class=\"dataframe\">\n",
       "  <thead>\n",
       "    <tr style=\"text-align: right;\">\n",
       "      <th></th>\n",
       "      <th>0</th>\n",
       "      <th>1</th>\n",
       "      <th>2</th>\n",
       "      <th>3</th>\n",
       "    </tr>\n",
       "  </thead>\n",
       "  <tbody>\n",
       "    <tr>\n",
       "      <th>4</th>\n",
       "      <td>0</td>\n",
       "      <td>FP1</td>\n",
       "      <td>0</td>\n",
       "      <td>3.174</td>\n",
       "    </tr>\n",
       "    <tr>\n",
       "      <th>5</th>\n",
       "      <td>0</td>\n",
       "      <td>FP1</td>\n",
       "      <td>1</td>\n",
       "      <td>1.709</td>\n",
       "    </tr>\n",
       "    <tr>\n",
       "      <th>6</th>\n",
       "      <td>0</td>\n",
       "      <td>FP1</td>\n",
       "      <td>2</td>\n",
       "      <td>-0.244</td>\n",
       "    </tr>\n",
       "    <tr>\n",
       "      <th>7</th>\n",
       "      <td>0</td>\n",
       "      <td>FP1</td>\n",
       "      <td>3</td>\n",
       "      <td>-2.197</td>\n",
       "    </tr>\n",
       "    <tr>\n",
       "      <th>8</th>\n",
       "      <td>0</td>\n",
       "      <td>FP1</td>\n",
       "      <td>4</td>\n",
       "      <td>-2.686</td>\n",
       "    </tr>\n",
       "    <tr>\n",
       "      <th>...</th>\n",
       "      <td>...</td>\n",
       "      <td>...</td>\n",
       "      <td>...</td>\n",
       "      <td>...</td>\n",
       "    </tr>\n",
       "    <tr>\n",
       "      <th>16446</th>\n",
       "      <td>119</td>\n",
       "      <td>Y</td>\n",
       "      <td>251</td>\n",
       "      <td>38.656</td>\n",
       "    </tr>\n",
       "    <tr>\n",
       "      <th>16447</th>\n",
       "      <td>119</td>\n",
       "      <td>Y</td>\n",
       "      <td>252</td>\n",
       "      <td>37.679</td>\n",
       "    </tr>\n",
       "    <tr>\n",
       "      <th>16448</th>\n",
       "      <td>119</td>\n",
       "      <td>Y</td>\n",
       "      <td>253</td>\n",
       "      <td>37.191</td>\n",
       "    </tr>\n",
       "    <tr>\n",
       "      <th>16449</th>\n",
       "      <td>119</td>\n",
       "      <td>Y</td>\n",
       "      <td>254</td>\n",
       "      <td>37.679</td>\n",
       "    </tr>\n",
       "    <tr>\n",
       "      <th>16450</th>\n",
       "      <td>119</td>\n",
       "      <td>Y</td>\n",
       "      <td>255</td>\n",
       "      <td>37.679</td>\n",
       "    </tr>\n",
       "  </tbody>\n",
       "</table>\n",
       "<p>1163264 rows × 4 columns</p>\n",
       "</div>"
      ],
      "text/plain": [
       "         0    1    2       3\n",
       "4        0  FP1    0   3.174\n",
       "5        0  FP1    1   1.709\n",
       "6        0  FP1    2  -0.244\n",
       "7        0  FP1    3  -2.197\n",
       "8        0  FP1    4  -2.686\n",
       "...    ...  ...  ...     ...\n",
       "16446  119    Y  251  38.656\n",
       "16447  119    Y  252  37.679\n",
       "16448  119    Y  253  37.191\n",
       "16449  119    Y  254  37.679\n",
       "16450  119    Y  255  37.679\n",
       "\n",
       "[1163264 rows x 4 columns]"
      ]
     },
     "execution_count": 12,
     "metadata": {},
     "output_type": "execute_result"
    }
   ],
   "source": [
    "my_data_a=my_data_a.iloc[:,0:4]\n",
    "my_data_a"
   ]
  },
  {
   "cell_type": "code",
   "execution_count": 13,
   "metadata": {},
   "outputs": [
    {
     "data": {
      "text/html": [
       "<div>\n",
       "<style scoped>\n",
       "    .dataframe tbody tr th:only-of-type {\n",
       "        vertical-align: middle;\n",
       "    }\n",
       "\n",
       "    .dataframe tbody tr th {\n",
       "        vertical-align: top;\n",
       "    }\n",
       "\n",
       "    .dataframe thead th {\n",
       "        text-align: right;\n",
       "    }\n",
       "</style>\n",
       "<table border=\"1\" class=\"dataframe\">\n",
       "  <thead>\n",
       "    <tr style=\"text-align: right;\">\n",
       "      <th></th>\n",
       "      <th>0</th>\n",
       "      <th>1</th>\n",
       "      <th>2</th>\n",
       "      <th>3</th>\n",
       "    </tr>\n",
       "  </thead>\n",
       "  <tbody>\n",
       "    <tr>\n",
       "      <th>4</th>\n",
       "      <td>0</td>\n",
       "      <td>FP1</td>\n",
       "      <td>0</td>\n",
       "      <td>-1.109</td>\n",
       "    </tr>\n",
       "    <tr>\n",
       "      <th>5</th>\n",
       "      <td>0</td>\n",
       "      <td>FP1</td>\n",
       "      <td>1</td>\n",
       "      <td>-2.085</td>\n",
       "    </tr>\n",
       "    <tr>\n",
       "      <th>6</th>\n",
       "      <td>0</td>\n",
       "      <td>FP1</td>\n",
       "      <td>2</td>\n",
       "      <td>-2.085</td>\n",
       "    </tr>\n",
       "    <tr>\n",
       "      <th>7</th>\n",
       "      <td>0</td>\n",
       "      <td>FP1</td>\n",
       "      <td>3</td>\n",
       "      <td>-1.597</td>\n",
       "    </tr>\n",
       "    <tr>\n",
       "      <th>8</th>\n",
       "      <td>0</td>\n",
       "      <td>FP1</td>\n",
       "      <td>4</td>\n",
       "      <td>-2.085</td>\n",
       "    </tr>\n",
       "    <tr>\n",
       "      <th>...</th>\n",
       "      <td>...</td>\n",
       "      <td>...</td>\n",
       "      <td>...</td>\n",
       "      <td>...</td>\n",
       "    </tr>\n",
       "    <tr>\n",
       "      <th>16446</th>\n",
       "      <td>119</td>\n",
       "      <td>Y</td>\n",
       "      <td>251</td>\n",
       "      <td>-37.292</td>\n",
       "    </tr>\n",
       "    <tr>\n",
       "      <th>16447</th>\n",
       "      <td>119</td>\n",
       "      <td>Y</td>\n",
       "      <td>252</td>\n",
       "      <td>-36.316</td>\n",
       "    </tr>\n",
       "    <tr>\n",
       "      <th>16448</th>\n",
       "      <td>119</td>\n",
       "      <td>Y</td>\n",
       "      <td>253</td>\n",
       "      <td>-34.363</td>\n",
       "    </tr>\n",
       "    <tr>\n",
       "      <th>16449</th>\n",
       "      <td>119</td>\n",
       "      <td>Y</td>\n",
       "      <td>254</td>\n",
       "      <td>-33.386</td>\n",
       "    </tr>\n",
       "    <tr>\n",
       "      <th>16450</th>\n",
       "      <td>119</td>\n",
       "      <td>Y</td>\n",
       "      <td>255</td>\n",
       "      <td>-32.898</td>\n",
       "    </tr>\n",
       "  </tbody>\n",
       "</table>\n",
       "<p>1818624 rows × 4 columns</p>\n",
       "</div>"
      ],
      "text/plain": [
       "         0    1    2        3\n",
       "4        0  FP1    0   -1.109\n",
       "5        0  FP1    1   -2.085\n",
       "6        0  FP1    2   -2.085\n",
       "7        0  FP1    3   -1.597\n",
       "8        0  FP1    4   -2.085\n",
       "...    ...  ...  ...      ...\n",
       "16446  119    Y  251  -37.292\n",
       "16447  119    Y  252  -36.316\n",
       "16448  119    Y  253  -34.363\n",
       "16449  119    Y  254  -33.386\n",
       "16450  119    Y  255  -32.898\n",
       "\n",
       "[1818624 rows x 4 columns]"
      ]
     },
     "execution_count": 13,
     "metadata": {},
     "output_type": "execute_result"
    }
   ],
   "source": [
    "my_data_c=my_data_c.iloc[:,0:4]\n",
    "my_data_c"
   ]
  },
  {
   "attachments": {},
   "cell_type": "markdown",
   "metadata": {},
   "source": [
    "2. sütundaki tag'lerin veri setindeki toplam sayıları"
   ]
  },
  {
   "cell_type": "code",
   "execution_count": 14,
   "metadata": {},
   "outputs": [
    {
     "data": {
      "text/plain": [
       "FP1    18176\n",
       "FP2    18176\n",
       "F5     18176\n",
       "F6     18176\n",
       "FT7    18176\n",
       "       ...  \n",
       "P7     18176\n",
       "PO2    18176\n",
       "PO1    18176\n",
       "O2     18176\n",
       "Y      18176\n",
       "Name: 1, Length: 64, dtype: int64"
      ]
     },
     "execution_count": 14,
     "metadata": {},
     "output_type": "execute_result"
    }
   ],
   "source": [
    "my_data_a[1].value_counts()"
   ]
  },
  {
   "cell_type": "code",
   "execution_count": 15,
   "metadata": {},
   "outputs": [
    {
     "data": {
      "text/plain": [
       "FP1    28416\n",
       "FP2    28416\n",
       "F5     28416\n",
       "F6     28416\n",
       "FT7    28416\n",
       "       ...  \n",
       "P7     28416\n",
       "PO2    28416\n",
       "PO1    28416\n",
       "O2     28416\n",
       "Y      28416\n",
       "Name: 1, Length: 64, dtype: int64"
      ]
     },
     "execution_count": 15,
     "metadata": {},
     "output_type": "execute_result"
    }
   ],
   "source": [
    "my_data_c[1].value_counts()"
   ]
  },
  {
   "attachments": {},
   "cell_type": "markdown",
   "metadata": {},
   "source": [
    "**Datasetin son halinde;**<br>1. sütun => deneme sayısını,<br>2. sütun => deneklere yerleştirilen elektrotları,<br>3. sütun => alınan örnek sayısını,<br>4. sütun => mikrovolt cinsinden sensör değerlerini temsil etmektedir."
   ]
  },
  {
   "cell_type": "code",
   "execution_count": 16,
   "metadata": {},
   "outputs": [
    {
     "data": {
      "text/html": [
       "<div>\n",
       "<style scoped>\n",
       "    .dataframe tbody tr th:only-of-type {\n",
       "        vertical-align: middle;\n",
       "    }\n",
       "\n",
       "    .dataframe tbody tr th {\n",
       "        vertical-align: top;\n",
       "    }\n",
       "\n",
       "    .dataframe thead th {\n",
       "        text-align: right;\n",
       "    }\n",
       "</style>\n",
       "<table border=\"1\" class=\"dataframe\">\n",
       "  <thead>\n",
       "    <tr style=\"text-align: right;\">\n",
       "      <th></th>\n",
       "      <th>0</th>\n",
       "      <th>1</th>\n",
       "      <th>2</th>\n",
       "      <th>3</th>\n",
       "    </tr>\n",
       "  </thead>\n",
       "  <tbody>\n",
       "    <tr>\n",
       "      <th>4</th>\n",
       "      <td>0</td>\n",
       "      <td>FP1</td>\n",
       "      <td>0</td>\n",
       "      <td>3.174</td>\n",
       "    </tr>\n",
       "    <tr>\n",
       "      <th>5</th>\n",
       "      <td>0</td>\n",
       "      <td>FP1</td>\n",
       "      <td>1</td>\n",
       "      <td>1.709</td>\n",
       "    </tr>\n",
       "    <tr>\n",
       "      <th>6</th>\n",
       "      <td>0</td>\n",
       "      <td>FP1</td>\n",
       "      <td>2</td>\n",
       "      <td>-0.244</td>\n",
       "    </tr>\n",
       "    <tr>\n",
       "      <th>7</th>\n",
       "      <td>0</td>\n",
       "      <td>FP1</td>\n",
       "      <td>3</td>\n",
       "      <td>-2.197</td>\n",
       "    </tr>\n",
       "    <tr>\n",
       "      <th>8</th>\n",
       "      <td>0</td>\n",
       "      <td>FP1</td>\n",
       "      <td>4</td>\n",
       "      <td>-2.686</td>\n",
       "    </tr>\n",
       "    <tr>\n",
       "      <th>...</th>\n",
       "      <td>...</td>\n",
       "      <td>...</td>\n",
       "      <td>...</td>\n",
       "      <td>...</td>\n",
       "    </tr>\n",
       "    <tr>\n",
       "      <th>16446</th>\n",
       "      <td>119</td>\n",
       "      <td>Y</td>\n",
       "      <td>251</td>\n",
       "      <td>38.656</td>\n",
       "    </tr>\n",
       "    <tr>\n",
       "      <th>16447</th>\n",
       "      <td>119</td>\n",
       "      <td>Y</td>\n",
       "      <td>252</td>\n",
       "      <td>37.679</td>\n",
       "    </tr>\n",
       "    <tr>\n",
       "      <th>16448</th>\n",
       "      <td>119</td>\n",
       "      <td>Y</td>\n",
       "      <td>253</td>\n",
       "      <td>37.191</td>\n",
       "    </tr>\n",
       "    <tr>\n",
       "      <th>16449</th>\n",
       "      <td>119</td>\n",
       "      <td>Y</td>\n",
       "      <td>254</td>\n",
       "      <td>37.679</td>\n",
       "    </tr>\n",
       "    <tr>\n",
       "      <th>16450</th>\n",
       "      <td>119</td>\n",
       "      <td>Y</td>\n",
       "      <td>255</td>\n",
       "      <td>37.679</td>\n",
       "    </tr>\n",
       "  </tbody>\n",
       "</table>\n",
       "<p>1163264 rows × 4 columns</p>\n",
       "</div>"
      ],
      "text/plain": [
       "         0    1    2       3\n",
       "4        0  FP1    0   3.174\n",
       "5        0  FP1    1   1.709\n",
       "6        0  FP1    2  -0.244\n",
       "7        0  FP1    3  -2.197\n",
       "8        0  FP1    4  -2.686\n",
       "...    ...  ...  ...     ...\n",
       "16446  119    Y  251  38.656\n",
       "16447  119    Y  252  37.679\n",
       "16448  119    Y  253  37.191\n",
       "16449  119    Y  254  37.679\n",
       "16450  119    Y  255  37.679\n",
       "\n",
       "[1163264 rows x 4 columns]"
      ]
     },
     "execution_count": 16,
     "metadata": {},
     "output_type": "execute_result"
    }
   ],
   "source": [
    "my_data_a"
   ]
  },
  {
   "cell_type": "code",
   "execution_count": 17,
   "metadata": {},
   "outputs": [
    {
     "data": {
      "text/html": [
       "<div>\n",
       "<style scoped>\n",
       "    .dataframe tbody tr th:only-of-type {\n",
       "        vertical-align: middle;\n",
       "    }\n",
       "\n",
       "    .dataframe tbody tr th {\n",
       "        vertical-align: top;\n",
       "    }\n",
       "\n",
       "    .dataframe thead th {\n",
       "        text-align: right;\n",
       "    }\n",
       "</style>\n",
       "<table border=\"1\" class=\"dataframe\">\n",
       "  <thead>\n",
       "    <tr style=\"text-align: right;\">\n",
       "      <th></th>\n",
       "      <th>0</th>\n",
       "      <th>1</th>\n",
       "      <th>2</th>\n",
       "      <th>3</th>\n",
       "    </tr>\n",
       "  </thead>\n",
       "  <tbody>\n",
       "    <tr>\n",
       "      <th>4</th>\n",
       "      <td>0</td>\n",
       "      <td>FP1</td>\n",
       "      <td>0</td>\n",
       "      <td>-1.109</td>\n",
       "    </tr>\n",
       "    <tr>\n",
       "      <th>5</th>\n",
       "      <td>0</td>\n",
       "      <td>FP1</td>\n",
       "      <td>1</td>\n",
       "      <td>-2.085</td>\n",
       "    </tr>\n",
       "    <tr>\n",
       "      <th>6</th>\n",
       "      <td>0</td>\n",
       "      <td>FP1</td>\n",
       "      <td>2</td>\n",
       "      <td>-2.085</td>\n",
       "    </tr>\n",
       "    <tr>\n",
       "      <th>7</th>\n",
       "      <td>0</td>\n",
       "      <td>FP1</td>\n",
       "      <td>3</td>\n",
       "      <td>-1.597</td>\n",
       "    </tr>\n",
       "    <tr>\n",
       "      <th>8</th>\n",
       "      <td>0</td>\n",
       "      <td>FP1</td>\n",
       "      <td>4</td>\n",
       "      <td>-2.085</td>\n",
       "    </tr>\n",
       "    <tr>\n",
       "      <th>...</th>\n",
       "      <td>...</td>\n",
       "      <td>...</td>\n",
       "      <td>...</td>\n",
       "      <td>...</td>\n",
       "    </tr>\n",
       "    <tr>\n",
       "      <th>16446</th>\n",
       "      <td>119</td>\n",
       "      <td>Y</td>\n",
       "      <td>251</td>\n",
       "      <td>-37.292</td>\n",
       "    </tr>\n",
       "    <tr>\n",
       "      <th>16447</th>\n",
       "      <td>119</td>\n",
       "      <td>Y</td>\n",
       "      <td>252</td>\n",
       "      <td>-36.316</td>\n",
       "    </tr>\n",
       "    <tr>\n",
       "      <th>16448</th>\n",
       "      <td>119</td>\n",
       "      <td>Y</td>\n",
       "      <td>253</td>\n",
       "      <td>-34.363</td>\n",
       "    </tr>\n",
       "    <tr>\n",
       "      <th>16449</th>\n",
       "      <td>119</td>\n",
       "      <td>Y</td>\n",
       "      <td>254</td>\n",
       "      <td>-33.386</td>\n",
       "    </tr>\n",
       "    <tr>\n",
       "      <th>16450</th>\n",
       "      <td>119</td>\n",
       "      <td>Y</td>\n",
       "      <td>255</td>\n",
       "      <td>-32.898</td>\n",
       "    </tr>\n",
       "  </tbody>\n",
       "</table>\n",
       "<p>1818624 rows × 4 columns</p>\n",
       "</div>"
      ],
      "text/plain": [
       "         0    1    2        3\n",
       "4        0  FP1    0   -1.109\n",
       "5        0  FP1    1   -2.085\n",
       "6        0  FP1    2   -2.085\n",
       "7        0  FP1    3   -1.597\n",
       "8        0  FP1    4   -2.085\n",
       "...    ...  ...  ...      ...\n",
       "16446  119    Y  251  -37.292\n",
       "16447  119    Y  252  -36.316\n",
       "16448  119    Y  253  -34.363\n",
       "16449  119    Y  254  -33.386\n",
       "16450  119    Y  255  -32.898\n",
       "\n",
       "[1818624 rows x 4 columns]"
      ]
     },
     "execution_count": 17,
     "metadata": {},
     "output_type": "execute_result"
    }
   ],
   "source": [
    "my_data_c"
   ]
  },
  {
   "attachments": {},
   "cell_type": "markdown",
   "metadata": {},
   "source": [
    "Son sütundaki value'ların type'ını nümerik hale çevirelim"
   ]
  },
  {
   "cell_type": "code",
   "execution_count": 18,
   "metadata": {},
   "outputs": [
    {
     "data": {
      "text/plain": [
       "4        -1.109\n",
       "5        -2.085\n",
       "6        -2.085\n",
       "7        -1.597\n",
       "8        -2.085\n",
       "          ...  \n",
       "16446   -37.292\n",
       "16447   -36.316\n",
       "16448   -34.363\n",
       "16449   -33.386\n",
       "16450   -32.898\n",
       "Name: 3, Length: 1818624, dtype: float64"
      ]
     },
     "execution_count": 18,
     "metadata": {},
     "output_type": "execute_result"
    }
   ],
   "source": [
    "pd.to_numeric(my_data_a[3])\n",
    "pd.to_numeric(my_data_c[3])"
   ]
  },
  {
   "attachments": {},
   "cell_type": "markdown",
   "metadata": {},
   "source": [
    "Datasetteki tüm tag'ler"
   ]
  },
  {
   "cell_type": "code",
   "execution_count": 19,
   "metadata": {},
   "outputs": [
    {
     "data": {
      "text/plain": [
       "array(['FP1', 'FP2', 'F7', 'F8', 'AF1', 'AF2', 'FZ', 'F4', 'F3', 'FC6',\n",
       "       'FC5', 'FC2', 'FC1', 'T8', 'T7', 'CZ', 'C3', 'C4', 'CP5', 'CP6',\n",
       "       'CP1', 'CP2', 'P3', 'P4', 'PZ', 'P8', 'P7', 'PO2', 'PO1', 'O2',\n",
       "       'O1', 'X', 'AF7', 'AF8', 'F5', 'F6', 'FT7', 'FT8', 'FPZ', 'FC4',\n",
       "       'FC3', 'C6', 'C5', 'F2', 'F1', 'TP8', 'TP7', 'AFZ', 'CP3', 'CP4',\n",
       "       'P5', 'P6', 'C1', 'C2', 'PO7', 'PO8', 'FCZ', 'POZ', 'OZ', 'P2',\n",
       "       'P1', 'CPZ', 'nd', 'Y'], dtype=object)"
      ]
     },
     "execution_count": 19,
     "metadata": {},
     "output_type": "execute_result"
    }
   ],
   "source": [
    "tag_list_a=my_data_a[1].unique()\n",
    "tag_list_a"
   ]
  },
  {
   "cell_type": "code",
   "execution_count": 20,
   "metadata": {},
   "outputs": [
    {
     "data": {
      "text/plain": [
       "array(['FP1', 'FP2', 'F7', 'F8', 'AF1', 'AF2', 'FZ', 'F4', 'F3', 'FC6',\n",
       "       'FC5', 'FC2', 'FC1', 'T8', 'T7', 'CZ', 'C3', 'C4', 'CP5', 'CP6',\n",
       "       'CP1', 'CP2', 'P3', 'P4', 'PZ', 'P8', 'P7', 'PO2', 'PO1', 'O2',\n",
       "       'O1', 'X', 'AF7', 'AF8', 'F5', 'F6', 'FT7', 'FT8', 'FPZ', 'FC4',\n",
       "       'FC3', 'C6', 'C5', 'F2', 'F1', 'TP8', 'TP7', 'AFZ', 'CP3', 'CP4',\n",
       "       'P5', 'P6', 'C1', 'C2', 'PO7', 'PO8', 'FCZ', 'POZ', 'OZ', 'P2',\n",
       "       'P1', 'CPZ', 'nd', 'Y'], dtype=object)"
      ]
     },
     "execution_count": 20,
     "metadata": {},
     "output_type": "execute_result"
    }
   ],
   "source": [
    "tag_list_c=my_data_a[1].unique()\n",
    "tag_list_c"
   ]
  },
  {
   "cell_type": "code",
   "execution_count": 21,
   "metadata": {},
   "outputs": [
    {
     "name": "stdout",
     "output_type": "stream",
     "text": [
      "Datasette toplam 64 adet elektrot bulunmaktadır\n"
     ]
    }
   ],
   "source": [
    "print('Datasette toplam ' + str(len(my_data_a[1].unique())) + ' adet elektrot bulunmaktadır')"
   ]
  },
  {
   "attachments": {},
   "cell_type": "markdown",
   "metadata": {},
   "source": [
    "Augmented Dickey Fuller(ADF) test zaman serilerinde serinin durağan olup olmadığının belirlenmesinde sağlayan bir testtir.<br>p-value için serinin durağanlığını(stationary/non-stationary) tespit edebiliriz."
   ]
  },
  {
   "attachments": {},
   "cell_type": "markdown",
   "metadata": {},
   "source": [
    "p-value'nun 0,05'den küçük olması AR modelinin istatistiksel olarak anlamlı olduğunu gösterir, bu yüzden differencing(fark alma) işlemine gerek bulunmamaktadır"
   ]
  },
  {
   "cell_type": "code",
   "execution_count": 22,
   "metadata": {},
   "outputs": [
    {
     "data": {
      "text/plain": [
       "(0.01, False)"
      ]
     },
     "execution_count": 22,
     "metadata": {},
     "output_type": "execute_result"
    }
   ],
   "source": [
    "from pmdarima.arima import ADFTest\n",
    "adftest=ADFTest(alpha=0.05)\n",
    "adftest.should_diff(my_data_a[3])"
   ]
  },
  {
   "cell_type": "code",
   "execution_count": 23,
   "metadata": {},
   "outputs": [
    {
     "name": "stderr",
     "output_type": "stream",
     "text": [
      "C:\\Users\\bbari\\AppData\\Local\\Temp\\ipykernel_9160\\357090769.py:1: DeprecationWarning: is_stationary is deprecated and will be removed in a future release of pmdarima. Use should_diff instead.\n",
      "  adftest.is_stationary(my_data_a[3])\n"
     ]
    },
    {
     "data": {
      "text/plain": [
       "(0.01, False)"
      ]
     },
     "execution_count": 23,
     "metadata": {},
     "output_type": "execute_result"
    }
   ],
   "source": [
    "adftest.is_stationary(my_data_a[3])"
   ]
  },
  {
   "attachments": {},
   "cell_type": "markdown",
   "metadata": {},
   "source": [
    "**ARIMA Modeli**"
   ]
  },
  {
   "attachments": {},
   "cell_type": "markdown",
   "metadata": {},
   "source": [
    "ARIMA=>AR(p), I(d), MA(q)\n",
    "Tek değişkenli zaman serisi analizi ve tahmini"
   ]
  },
  {
   "attachments": {},
   "cell_type": "markdown",
   "metadata": {},
   "source": [
    "**p:** otoregresyon modelinin derecesi, (modeldeki bağımlı değişkenin değişme sırası)<br>\n",
    "**d:** fark alma işlemi, (durağan olmayan bir seriyi durağanlaştırmak için yapılır, serideki değerleri bir önceki değerden çıkarma işlemi)<br>\n",
    "**q:** hareketli ortalama(MA) modelinin derecesi"
   ]
  },
  {
   "attachments": {},
   "cell_type": "markdown",
   "metadata": {},
   "source": [
    "Örnek olarak FP1 tag'ini seçerek p, d, q değerleri için best model'ı bulalım"
   ]
  },
  {
   "cell_type": "code",
   "execution_count": 25,
   "metadata": {},
   "outputs": [
    {
     "data": {
      "text/html": [
       "<div>\n",
       "<style scoped>\n",
       "    .dataframe tbody tr th:only-of-type {\n",
       "        vertical-align: middle;\n",
       "    }\n",
       "\n",
       "    .dataframe tbody tr th {\n",
       "        vertical-align: top;\n",
       "    }\n",
       "\n",
       "    .dataframe thead th {\n",
       "        text-align: right;\n",
       "    }\n",
       "</style>\n",
       "<table border=\"1\" class=\"dataframe\">\n",
       "  <thead>\n",
       "    <tr style=\"text-align: right;\">\n",
       "      <th></th>\n",
       "      <th>0</th>\n",
       "      <th>1</th>\n",
       "      <th>2</th>\n",
       "      <th>3</th>\n",
       "    </tr>\n",
       "  </thead>\n",
       "  <tbody>\n",
       "    <tr>\n",
       "      <th>4</th>\n",
       "      <td>0</td>\n",
       "      <td>FP1</td>\n",
       "      <td>0</td>\n",
       "      <td>3.174</td>\n",
       "    </tr>\n",
       "    <tr>\n",
       "      <th>5</th>\n",
       "      <td>0</td>\n",
       "      <td>FP1</td>\n",
       "      <td>1</td>\n",
       "      <td>1.709</td>\n",
       "    </tr>\n",
       "    <tr>\n",
       "      <th>6</th>\n",
       "      <td>0</td>\n",
       "      <td>FP1</td>\n",
       "      <td>2</td>\n",
       "      <td>-0.244</td>\n",
       "    </tr>\n",
       "    <tr>\n",
       "      <th>7</th>\n",
       "      <td>0</td>\n",
       "      <td>FP1</td>\n",
       "      <td>3</td>\n",
       "      <td>-2.197</td>\n",
       "    </tr>\n",
       "    <tr>\n",
       "      <th>8</th>\n",
       "      <td>0</td>\n",
       "      <td>FP1</td>\n",
       "      <td>4</td>\n",
       "      <td>-2.686</td>\n",
       "    </tr>\n",
       "    <tr>\n",
       "      <th>...</th>\n",
       "      <td>...</td>\n",
       "      <td>...</td>\n",
       "      <td>...</td>\n",
       "      <td>...</td>\n",
       "    </tr>\n",
       "    <tr>\n",
       "      <th>255</th>\n",
       "      <td>119</td>\n",
       "      <td>FP1</td>\n",
       "      <td>251</td>\n",
       "      <td>32.725</td>\n",
       "    </tr>\n",
       "    <tr>\n",
       "      <th>256</th>\n",
       "      <td>119</td>\n",
       "      <td>FP1</td>\n",
       "      <td>252</td>\n",
       "      <td>31.748</td>\n",
       "    </tr>\n",
       "    <tr>\n",
       "      <th>257</th>\n",
       "      <td>119</td>\n",
       "      <td>FP1</td>\n",
       "      <td>253</td>\n",
       "      <td>30.772</td>\n",
       "    </tr>\n",
       "    <tr>\n",
       "      <th>258</th>\n",
       "      <td>119</td>\n",
       "      <td>FP1</td>\n",
       "      <td>254</td>\n",
       "      <td>29.307</td>\n",
       "    </tr>\n",
       "    <tr>\n",
       "      <th>259</th>\n",
       "      <td>119</td>\n",
       "      <td>FP1</td>\n",
       "      <td>255</td>\n",
       "      <td>28.330</td>\n",
       "    </tr>\n",
       "  </tbody>\n",
       "</table>\n",
       "<p>18176 rows × 4 columns</p>\n",
       "</div>"
      ],
      "text/plain": [
       "       0    1    2       3\n",
       "4      0  FP1    0   3.174\n",
       "5      0  FP1    1   1.709\n",
       "6      0  FP1    2  -0.244\n",
       "7      0  FP1    3  -2.197\n",
       "8      0  FP1    4  -2.686\n",
       "..   ...  ...  ...     ...\n",
       "255  119  FP1  251  32.725\n",
       "256  119  FP1  252  31.748\n",
       "257  119  FP1  253  30.772\n",
       "258  119  FP1  254  29.307\n",
       "259  119  FP1  255  28.330\n",
       "\n",
       "[18176 rows x 4 columns]"
      ]
     },
     "execution_count": 25,
     "metadata": {},
     "output_type": "execute_result"
    }
   ],
   "source": [
    "fp1_data=my_data_a.loc[my_data_a[1]=='FP1']\n",
    "fp1_data"
   ]
  },
  {
   "cell_type": "code",
   "execution_count": 26,
   "metadata": {},
   "outputs": [],
   "source": [
    "from pmdarima import model_selection\n",
    "train_fp1, test_fp1 = model_selection.train_test_split(fp1_data[3], test_size=0.25)"
   ]
  },
  {
   "attachments": {},
   "cell_type": "markdown",
   "metadata": {},
   "source": [
    "**FP1 Etiketinin Auto Arima ile Fit Edilmesi**"
   ]
  },
  {
   "cell_type": "code",
   "execution_count": 27,
   "metadata": {},
   "outputs": [
    {
     "name": "stdout",
     "output_type": "stream",
     "text": [
      "Performing stepwise search to minimize aic\n",
      " ARIMA(2,0,2)(0,0,0)[0]             : AIC=63937.470, Time=0.95 sec\n",
      " ARIMA(0,0,0)(0,0,0)[0]             : AIC=112169.829, Time=0.11 sec\n",
      " ARIMA(1,0,0)(0,0,0)[0]             : AIC=64601.168, Time=0.22 sec\n",
      " ARIMA(0,0,1)(0,0,0)[0]             : AIC=97667.172, Time=0.37 sec\n",
      " ARIMA(1,0,2)(0,0,0)[0]             : AIC=63943.657, Time=0.68 sec\n",
      " ARIMA(2,0,1)(0,0,0)[0]             : AIC=63977.248, Time=0.61 sec\n",
      " ARIMA(3,0,2)(0,0,0)[0]             : AIC=63890.621, Time=0.86 sec\n",
      " ARIMA(3,0,1)(0,0,0)[0]             : AIC=63955.245, Time=0.69 sec\n",
      " ARIMA(4,0,2)(0,0,0)[0]             : AIC=64396.557, Time=1.11 sec\n",
      " ARIMA(3,0,3)(0,0,0)[0]             : AIC=63880.323, Time=1.11 sec\n",
      " ARIMA(2,0,3)(0,0,0)[0]             : AIC=63937.776, Time=0.95 sec\n",
      " ARIMA(4,0,3)(0,0,0)[0]             : AIC=64581.520, Time=1.11 sec\n",
      " ARIMA(3,0,4)(0,0,0)[0]             : AIC=63879.453, Time=1.46 sec\n",
      " ARIMA(2,0,4)(0,0,0)[0]             : AIC=63911.079, Time=1.20 sec\n",
      " ARIMA(4,0,4)(0,0,0)[0]             : AIC=63881.298, Time=1.32 sec\n",
      " ARIMA(3,0,5)(0,0,0)[0]             : AIC=63884.802, Time=1.54 sec\n",
      " ARIMA(2,0,5)(0,0,0)[0]             : AIC=63902.188, Time=1.39 sec\n",
      " ARIMA(4,0,5)(0,0,0)[0]             : AIC=63886.258, Time=1.63 sec\n",
      " ARIMA(3,0,4)(0,0,0)[0] intercept   : AIC=63879.259, Time=2.96 sec\n",
      " ARIMA(2,0,4)(0,0,0)[0] intercept   : AIC=63910.922, Time=2.37 sec\n",
      " ARIMA(3,0,3)(0,0,0)[0] intercept   : AIC=63880.316, Time=2.24 sec\n",
      " ARIMA(4,0,4)(0,0,0)[0] intercept   : AIC=63881.223, Time=2.79 sec\n",
      " ARIMA(3,0,5)(0,0,0)[0] intercept   : AIC=63884.761, Time=3.43 sec\n",
      " ARIMA(2,0,3)(0,0,0)[0] intercept   : AIC=63937.185, Time=1.90 sec\n",
      " ARIMA(2,0,5)(0,0,0)[0] intercept   : AIC=63902.115, Time=2.71 sec\n",
      " ARIMA(4,0,3)(0,0,0)[0] intercept   : AIC=64581.098, Time=2.31 sec\n",
      " ARIMA(4,0,5)(0,0,0)[0] intercept   : AIC=63886.225, Time=3.63 sec\n",
      "\n",
      "Best model:  ARIMA(3,0,4)(0,0,0)[0] intercept\n",
      "Total fit time: 41.820 seconds\n"
     ]
    }
   ],
   "source": [
    "arima_fp1 = pm.auto_arima(train_fp1, error_action='ignore',\n",
    "                      suppress_warnings=True, maxiter=5, trace=True,\n",
    "                      seasonal=False, m=1)"
   ]
  },
  {
   "cell_type": "code",
   "execution_count": 28,
   "metadata": {},
   "outputs": [
    {
     "data": {
      "text/html": [
       "<table class=\"simpletable\">\n",
       "<caption>SARIMAX Results</caption>\n",
       "<tr>\n",
       "  <th>Dep. Variable:</th>           <td>y</td>        <th>  No. Observations:  </th>    <td>13632</td>  \n",
       "</tr>\n",
       "<tr>\n",
       "  <th>Model:</th>           <td>SARIMAX(3, 0, 4)</td> <th>  Log Likelihood     </th> <td>-31930.630</td>\n",
       "</tr>\n",
       "<tr>\n",
       "  <th>Date:</th>            <td>Tue, 31 Jan 2023</td> <th>  AIC                </th>  <td>63879.259</td>\n",
       "</tr>\n",
       "<tr>\n",
       "  <th>Time:</th>                <td>06:00:44</td>     <th>  BIC                </th>  <td>63946.941</td>\n",
       "</tr>\n",
       "<tr>\n",
       "  <th>Sample:</th>                  <td>0</td>        <th>  HQIC               </th>  <td>63901.821</td>\n",
       "</tr>\n",
       "<tr>\n",
       "  <th></th>                     <td> - 13632</td>     <th>                     </th>      <td> </td>    \n",
       "</tr>\n",
       "<tr>\n",
       "  <th>Covariance Type:</th>        <td>opg</td>       <th>                     </th>      <td> </td>    \n",
       "</tr>\n",
       "</table>\n",
       "<table class=\"simpletable\">\n",
       "<tr>\n",
       "      <td></td>         <th>coef</th>     <th>std err</th>      <th>z</th>      <th>P>|z|</th>  <th>[0.025</th>    <th>0.975]</th>  \n",
       "</tr>\n",
       "<tr>\n",
       "  <th>intercept</th> <td>    0.0312</td> <td>    0.039</td> <td>    0.801</td> <td> 0.423</td> <td>   -0.045</td> <td>    0.108</td>\n",
       "</tr>\n",
       "<tr>\n",
       "  <th>ar.L1</th>     <td>    1.7760</td> <td>    0.095</td> <td>   18.663</td> <td> 0.000</td> <td>    1.590</td> <td>    1.963</td>\n",
       "</tr>\n",
       "<tr>\n",
       "  <th>ar.L2</th>     <td>   -1.3596</td> <td>    0.152</td> <td>   -8.935</td> <td> 0.000</td> <td>   -1.658</td> <td>   -1.061</td>\n",
       "</tr>\n",
       "<tr>\n",
       "  <th>ar.L3</th>     <td>    0.5653</td> <td>    0.082</td> <td>    6.909</td> <td> 0.000</td> <td>    0.405</td> <td>    0.726</td>\n",
       "</tr>\n",
       "<tr>\n",
       "  <th>ma.L1</th>     <td>   -0.6048</td> <td>    0.095</td> <td>   -6.371</td> <td> 0.000</td> <td>   -0.791</td> <td>   -0.419</td>\n",
       "</tr>\n",
       "<tr>\n",
       "  <th>ma.L2</th>     <td>    0.5393</td> <td>    0.076</td> <td>    7.060</td> <td> 0.000</td> <td>    0.390</td> <td>    0.689</td>\n",
       "</tr>\n",
       "<tr>\n",
       "  <th>ma.L3</th>     <td>    0.0411</td> <td>    0.016</td> <td>    2.496</td> <td> 0.013</td> <td>    0.009</td> <td>    0.073</td>\n",
       "</tr>\n",
       "<tr>\n",
       "  <th>ma.L4</th>     <td>    0.0055</td> <td>    0.012</td> <td>    0.436</td> <td> 0.663</td> <td>   -0.019</td> <td>    0.030</td>\n",
       "</tr>\n",
       "<tr>\n",
       "  <th>sigma2</th>    <td>    6.3313</td> <td>    0.016</td> <td>  403.235</td> <td> 0.000</td> <td>    6.301</td> <td>    6.362</td>\n",
       "</tr>\n",
       "</table>\n",
       "<table class=\"simpletable\">\n",
       "<tr>\n",
       "  <th>Ljung-Box (L1) (Q):</th>     <td>0.00</td> <th>  Jarque-Bera (JB):  </th> <td>1146397978.84</td>\n",
       "</tr>\n",
       "<tr>\n",
       "  <th>Prob(Q):</th>                <td>0.95</td> <th>  Prob(JB):          </th>     <td>0.00</td>     \n",
       "</tr>\n",
       "<tr>\n",
       "  <th>Heteroskedasticity (H):</th> <td>2.07</td> <th>  Skew:              </th>    <td>-29.86</td>    \n",
       "</tr>\n",
       "<tr>\n",
       "  <th>Prob(H) (two-sided):</th>    <td>0.00</td> <th>  Kurtosis:          </th>    <td>1422.42</td>   \n",
       "</tr>\n",
       "</table><br/><br/>Warnings:<br/>[1] Covariance matrix calculated using the outer product of gradients (complex-step)."
      ],
      "text/plain": [
       "<class 'statsmodels.iolib.summary.Summary'>\n",
       "\"\"\"\n",
       "                               SARIMAX Results                                \n",
       "==============================================================================\n",
       "Dep. Variable:                      y   No. Observations:                13632\n",
       "Model:               SARIMAX(3, 0, 4)   Log Likelihood              -31930.630\n",
       "Date:                Tue, 31 Jan 2023   AIC                          63879.259\n",
       "Time:                        06:00:44   BIC                          63946.941\n",
       "Sample:                             0   HQIC                         63901.821\n",
       "                              - 13632                                         \n",
       "Covariance Type:                  opg                                         \n",
       "==============================================================================\n",
       "                 coef    std err          z      P>|z|      [0.025      0.975]\n",
       "------------------------------------------------------------------------------\n",
       "intercept      0.0312      0.039      0.801      0.423      -0.045       0.108\n",
       "ar.L1          1.7760      0.095     18.663      0.000       1.590       1.963\n",
       "ar.L2         -1.3596      0.152     -8.935      0.000      -1.658      -1.061\n",
       "ar.L3          0.5653      0.082      6.909      0.000       0.405       0.726\n",
       "ma.L1         -0.6048      0.095     -6.371      0.000      -0.791      -0.419\n",
       "ma.L2          0.5393      0.076      7.060      0.000       0.390       0.689\n",
       "ma.L3          0.0411      0.016      2.496      0.013       0.009       0.073\n",
       "ma.L4          0.0055      0.012      0.436      0.663      -0.019       0.030\n",
       "sigma2         6.3313      0.016    403.235      0.000       6.301       6.362\n",
       "===================================================================================\n",
       "Ljung-Box (L1) (Q):                   0.00   Jarque-Bera (JB):        1146397978.84\n",
       "Prob(Q):                              0.95   Prob(JB):                         0.00\n",
       "Heteroskedasticity (H):               2.07   Skew:                           -29.86\n",
       "Prob(H) (two-sided):                  0.00   Kurtosis:                      1422.42\n",
       "===================================================================================\n",
       "\n",
       "Warnings:\n",
       "[1] Covariance matrix calculated using the outer product of gradients (complex-step).\n",
       "\"\"\""
      ]
     },
     "execution_count": 28,
     "metadata": {},
     "output_type": "execute_result"
    }
   ],
   "source": [
    "arima_fp1.summary()"
   ]
  },
  {
   "attachments": {},
   "cell_type": "markdown",
   "metadata": {},
   "source": [
    "**Tüm Dataset için Auto-Arima ile Hesaplama Yapılması**"
   ]
  },
  {
   "cell_type": "code",
   "execution_count": 32,
   "metadata": {},
   "outputs": [
    {
     "name": "stdout",
     "output_type": "stream",
     "text": [
      "FP1: (3, 0, 4)\n",
      "FP2: (2, 1, 3)\n",
      "F7: (2, 1, 3)\n"
     ]
    }
   ],
   "source": [
    "#for i in range(0,len(tag_list_a)+1):\n",
    "for i in range(0,3):\n",
    "    filt_tag=my_data_a.loc[my_data_a[1]==tag_list_a[i]]\n",
    "    train, test = model_selection.train_test_split(filt_tag[3], test_size=0.25)\n",
    "    arima = pm.auto_arima(train, error_action='ignore',\n",
    "                      suppress_warnings=True, maxiter=5,\n",
    "                      seasonal=False, m=1)\n",
    "    print(str(tag_list_a[i]) + \": \" + str(arima.order))\n",
    "    "
   ]
  },
  {
   "cell_type": "code",
   "execution_count": 33,
   "metadata": {},
   "outputs": [
    {
     "name": "stdout",
     "output_type": "stream",
     "text": [
      "FP1: (2, 1, 5)\n",
      "FP2: (2, 1, 2)\n",
      "F7: (4, 1, 3)\n"
     ]
    }
   ],
   "source": [
    "for i in range(0,3):\n",
    "    filt_tag_c=my_data_c.loc[my_data_c[1]==tag_list_c[i]]\n",
    "    train, test = model_selection.train_test_split(filt_tag_c[3], test_size=0.25)\n",
    "    arima = pm.auto_arima(train, error_action='ignore',\n",
    "                      suppress_warnings=True, maxiter=5,\n",
    "                      seasonal=False, m=1)\n",
    "    print(str(tag_list_c[i]) + \": \" + str(arima.order))"
   ]
  },
  {
   "attachments": {},
   "cell_type": "markdown",
   "metadata": {},
   "source": [
    "maxiter=maksimum fonks ölçüm sayısı, mevsimsellik olmadığından seasonal=False ve m=1(default'u da aynı) olarak aldık"
   ]
  },
  {
   "cell_type": "code",
   "execution_count": 34,
   "metadata": {},
   "outputs": [
    {
     "data": {
      "text/plain": [
       "(7104,)"
      ]
     },
     "execution_count": 34,
     "metadata": {},
     "output_type": "execute_result"
    }
   ],
   "source": [
    "test.shape"
   ]
  },
  {
   "cell_type": "code",
   "execution_count": 35,
   "metadata": {},
   "outputs": [
    {
     "data": {
      "text/plain": [
       "582      1.689\n",
       "583      2.177\n",
       "584      2.665\n",
       "585      3.642\n",
       "586      4.130\n",
       "        ...   \n",
       "769    -11.342\n",
       "770    -11.831\n",
       "771    -10.854\n",
       "772     -9.389\n",
       "773     -7.924\n",
       "Name: 3, Length: 7104, dtype: object"
      ]
     },
     "execution_count": 35,
     "metadata": {},
     "output_type": "execute_result"
    }
   ],
   "source": [
    "test"
   ]
  },
  {
   "attachments": {},
   "cell_type": "markdown",
   "metadata": {},
   "source": [
    "Datasetimizin %25'ini ayırdığımız test datasının son 64 satırını baz alalım"
   ]
  },
  {
   "cell_type": "code",
   "execution_count": 36,
   "metadata": {},
   "outputs": [
    {
     "data": {
      "text/plain": [
       "array([-13.295, -10.854,  -8.901,  -8.901, -10.366, -13.295, -16.225,\n",
       "       -19.643, -22.085, -23.061, -21.596, -17.69 , -13.295,  -9.389,\n",
       "        -8.413, -10.854, -15.737, -20.131, -22.085, -21.108, -17.202,\n",
       "       -11.831,  -7.436,  -4.018,  -2.065,  -1.577,  -2.553,  -4.018,\n",
       "        -5.483,  -6.46 ,  -5.483,  -3.53 ,  -1.088,   1.841,   4.771,\n",
       "         6.724,   7.212,   7.212,   6.724,   6.236,   6.236,   6.236,\n",
       "         5.747,   4.771,   2.818,   1.353,   0.865,   0.865,   0.376,\n",
       "        -0.6  ,  -3.042,  -5.483,  -6.948,  -6.948,  -6.948,  -6.46 ,\n",
       "        -7.436,  -8.901, -10.366, -11.342, -11.831, -10.854,  -9.389,\n",
       "        -7.924])"
      ]
     },
     "execution_count": 36,
     "metadata": {},
     "output_type": "execute_result"
    }
   ],
   "source": [
    "filt_test=test.tail(64)\n",
    "filt_test = np.array(filt_test,dtype=\"float64\")\n",
    "filt_test"
   ]
  },
  {
   "cell_type": "code",
   "execution_count": 37,
   "metadata": {},
   "outputs": [
    {
     "data": {
      "text/plain": [
       "[<matplotlib.lines.Line2D at 0x1d0635c3400>]"
      ]
     },
     "execution_count": 37,
     "metadata": {},
     "output_type": "execute_result"
    },
    {
     "data": {
      "image/png": "[encoded data removed]",
      "text/plain": [
       "<Figure size 640x480 with 1 Axes>"
      ]
     },
     "metadata": {},
     "output_type": "display_data"
    }
   ],
   "source": [
    "plt.plot(filt_test)"
   ]
  },
  {
   "cell_type": "code",
   "execution_count": 38,
   "metadata": {},
   "outputs": [
    {
     "data": {
      "text/plain": [
       "array([-3.021, -5.463, -6.927, -7.416, -6.439, -4.974, -2.533,  0.397,\n",
       "        2.838,  3.815,  2.35 ,  0.397, -1.068, -0.58 ,  1.862,  4.303,\n",
       "        5.28 ,  4.791,  3.326,  1.373,  0.397,  0.885,  1.862,  2.838,\n",
       "        2.838,  1.862,  0.885,  1.862,  3.815,  6.744,  8.209,  7.721,\n",
       "        5.28 ,  2.838,  3.326,  5.768,  9.186, 11.139, 11.139,  9.674,\n",
       "        8.698, 10.162, 13.092, 16.022, 16.51 , 14.069, 11.139,  9.186,\n",
       "        8.698,  9.674, 10.162,  9.674,  7.721,  5.768,  5.28 ,  5.28 ,\n",
       "        6.744,  8.209,  9.674, 10.162, 10.651, 10.162,  8.698,  7.233])"
      ]
     },
     "execution_count": 38,
     "metadata": {},
     "output_type": "execute_result"
    }
   ],
   "source": [
    "filt_train=train.head(64)\n",
    "filt_train = np.array(filt_train,dtype=\"float64\")\n",
    "filt_train"
   ]
  },
  {
   "cell_type": "code",
   "execution_count": 39,
   "metadata": {},
   "outputs": [
    {
     "data": {
      "text/plain": [
       "[<matplotlib.lines.Line2D at 0x1d0626c2620>]"
      ]
     },
     "execution_count": 39,
     "metadata": {},
     "output_type": "execute_result"
    },
    {
     "data": {
      "image/png": "[encoded data removed]",
      "text/plain": [
       "<Figure size 640x480 with 1 Axes>"
      ]
     },
     "metadata": {},
     "output_type": "display_data"
    }
   ],
   "source": [
    "plt.plot(filt_train)"
   ]
  },
  {
   "attachments": {},
   "cell_type": "markdown",
   "metadata": {},
   "source": [
    "**Test Verileri Üzerinde Forecasting**"
   ]
  },
  {
   "attachments": {},
   "cell_type": "markdown",
   "metadata": {},
   "source": [
    "Test verilerinde gelecekteki değerleri tahmin etmek için üstteki adımlarda oluşturduğumuz eğitilmiş modeli kullanabiliriz."
   ]
  },
  {
   "cell_type": "code",
   "execution_count": 40,
   "metadata": {},
   "outputs": [
    {
     "name": "stderr",
     "output_type": "stream",
     "text": [
      "C:\\Users\\bbari\\AppData\\Local\\Packages\\PythonSoftwareFoundation.Python.3.10_qbz5n2kfra8p0\\LocalCache\\local-packages\\Python310\\site-packages\\statsmodels\\tsa\\base\\tsa_model.py:834: ValueWarning: No supported index is available. Prediction results will be given with an integer index beginning at `start`.\n",
      "  return get_prediction_index(\n",
      "C:\\Users\\bbari\\AppData\\Local\\Packages\\PythonSoftwareFoundation.Python.3.10_qbz5n2kfra8p0\\LocalCache\\local-packages\\Python310\\site-packages\\statsmodels\\tsa\\base\\tsa_model.py:834: DeprecationWarning: No supported index is available. In the next version, calling this method in a model without a supported index will result in an exception.\n",
      "  return get_prediction_index(\n"
     ]
    },
    {
     "data": {
      "text/html": [
       "<div>\n",
       "<style scoped>\n",
       "    .dataframe tbody tr th:only-of-type {\n",
       "        vertical-align: middle;\n",
       "    }\n",
       "\n",
       "    .dataframe tbody tr th {\n",
       "        vertical-align: top;\n",
       "    }\n",
       "\n",
       "    .dataframe thead th {\n",
       "        text-align: right;\n",
       "    }\n",
       "</style>\n",
       "<table border=\"1\" class=\"dataframe\">\n",
       "  <thead>\n",
       "    <tr style=\"text-align: right;\">\n",
       "      <th></th>\n",
       "      <th>0</th>\n",
       "    </tr>\n",
       "  </thead>\n",
       "  <tbody>\n",
       "    <tr>\n",
       "      <th>21312</th>\n",
       "      <td>0.854541</td>\n",
       "    </tr>\n",
       "    <tr>\n",
       "      <th>21313</th>\n",
       "      <td>0.288018</td>\n",
       "    </tr>\n",
       "    <tr>\n",
       "      <th>21314</th>\n",
       "      <td>-0.634185</td>\n",
       "    </tr>\n",
       "    <tr>\n",
       "      <th>21315</th>\n",
       "      <td>-1.433113</td>\n",
       "    </tr>\n",
       "    <tr>\n",
       "      <th>21316</th>\n",
       "      <td>-1.824820</td>\n",
       "    </tr>\n",
       "    <tr>\n",
       "      <th>...</th>\n",
       "      <td>...</td>\n",
       "    </tr>\n",
       "    <tr>\n",
       "      <th>21371</th>\n",
       "      <td>-2.346592</td>\n",
       "    </tr>\n",
       "    <tr>\n",
       "      <th>21372</th>\n",
       "      <td>-2.346600</td>\n",
       "    </tr>\n",
       "    <tr>\n",
       "      <th>21373</th>\n",
       "      <td>-2.346607</td>\n",
       "    </tr>\n",
       "    <tr>\n",
       "      <th>21374</th>\n",
       "      <td>-2.346610</td>\n",
       "    </tr>\n",
       "    <tr>\n",
       "      <th>21375</th>\n",
       "      <td>-2.346609</td>\n",
       "    </tr>\n",
       "  </tbody>\n",
       "</table>\n",
       "<p>64 rows × 1 columns</p>\n",
       "</div>"
      ],
      "text/plain": [
       "              0\n",
       "21312  0.854541\n",
       "21313  0.288018\n",
       "21314 -0.634185\n",
       "21315 -1.433113\n",
       "21316 -1.824820\n",
       "...         ...\n",
       "21371 -2.346592\n",
       "21372 -2.346600\n",
       "21373 -2.346607\n",
       "21374 -2.346610\n",
       "21375 -2.346609\n",
       "\n",
       "[64 rows x 1 columns]"
      ]
     },
     "execution_count": 40,
     "metadata": {},
     "output_type": "execute_result"
    }
   ],
   "source": [
    "predict=pd.DataFrame(arima.predict(n_periods=64))\n",
    "predict"
   ]
  },
  {
   "cell_type": "code",
   "execution_count": 41,
   "metadata": {},
   "outputs": [
    {
     "data": {
      "text/plain": [
       "[<matplotlib.lines.Line2D at 0x1d07043fe80>]"
      ]
     },
     "execution_count": 41,
     "metadata": {},
     "output_type": "execute_result"
    },
    {
     "data": {
      "image/png": "[encoded data removed]",
      "text/plain": [
       "<Figure size 640x480 with 1 Axes>"
      ]
     },
     "metadata": {},
     "output_type": "display_data"
    }
   ],
   "source": [
    "filt_predict = np.array(predict,dtype=\"float64\")\n",
    "plt.plot(filt_predict)"
   ]
  },
  {
   "cell_type": "code",
   "execution_count": 42,
   "metadata": {},
   "outputs": [
    {
     "data": {
      "text/plain": [
       "[<matplotlib.lines.Line2D at 0x1d073582800>]"
      ]
     },
     "execution_count": 42,
     "metadata": {},
     "output_type": "execute_result"
    },
    {
     "data": {
      "image/png": "[encoded data removed]",
      "text/plain": [
       "<Figure size 640x480 with 1 Axes>"
      ]
     },
     "metadata": {},
     "output_type": "display_data"
    }
   ],
   "source": [
    "res=np.append(filt_test,filt_predict)\n",
    "plt.plot(res)"
   ]
  }
 ],
 "metadata": {
  "kernelspec": {
   "display_name": "Python 3",
   "language": "python",
   "name": "python3"
  },
  "language_info": {
   "codemirror_mode": {
    "name": "ipython",
    "version": 3
   },
   "file_extension": ".py",
   "mimetype": "text/x-python",
   "name": "python",
   "nbconvert_exporter": "python",
   "pygments_lexer": "ipython3",
   "version": "3.10.9"
  },
  "orig_nbformat": 4,
  "vscode": {
   "interpreter": {
    "hash": "ebdc7eae0f9a9f55e4b7796f9415997b0276a074ab18384dcccd13b0c9a3bc4c"
   }
  }
 },
 "nbformat": 4,
 "nbformat_minor": 2
}
